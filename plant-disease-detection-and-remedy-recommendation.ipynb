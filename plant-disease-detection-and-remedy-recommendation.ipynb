{
 "cells": [
  {
   "cell_type": "markdown",
   "metadata": {},
   "source": [
    "DISEASE DETECTION AND RECOMMENDATION"
   ]
  },
  {
   "cell_type": "code",
   "execution_count": 35,
   "metadata": {
    "_cell_guid": "b1076dfc-b9ad-4769-8c92-a6c4dae69d19",
    "_uuid": "8f2839f25d086af736a60e9eeb907d3b93b6e0e5",
    "execution": {
     "iopub.execute_input": "2021-06-07T04:19:31.727977Z",
     "iopub.status.busy": "2021-06-07T04:19:31.727635Z",
     "iopub.status.idle": "2021-06-07T04:19:31.736894Z",
     "shell.execute_reply": "2021-06-07T04:19:31.736116Z",
     "shell.execute_reply.started": "2021-06-07T04:19:31.727915Z"
    }
   },
   "outputs": [],
   "source": [
    "import numpy as np\n",
    "import pickle\n",
    "import cv2\n",
    "from os import listdir\n",
    "from sklearn.preprocessing import LabelBinarizer\n",
    "from keras.models import Sequential\n",
    "from keras.layers.normalization import BatchNormalization\n",
    "from keras.layers.convolutional import Conv2D\n",
    "from keras.layers.convolutional import MaxPooling2D\n",
    "from keras.layers.core import Activation, Flatten, Dropout, Dense\n",
    "from keras import backend as K\n",
    "from keras.preprocessing.image import ImageDataGenerator\n",
    "from keras.optimizers import Adam\n",
    "from keras.preprocessing import image\n",
    "from keras.preprocessing.image import img_to_array\n",
    "from sklearn.preprocessing import MultiLabelBinarizer\n",
    "from sklearn.model_selection import train_test_split\n",
    "import matplotlib.pyplot as plt"
   ]
  },
  {
   "cell_type": "code",
   "execution_count": 40,
   "metadata": {
    "_uuid": "7c3354a78e21a1a62ad0c4689d0ab3238fb760d4",
    "execution": {
     "iopub.execute_input": "2021-06-07T04:20:00.387835Z",
     "iopub.status.busy": "2021-06-07T04:20:00.387429Z",
     "iopub.status.idle": "2021-06-07T04:20:00.393619Z",
     "shell.execute_reply": "2021-06-07T04:20:00.392420Z",
     "shell.execute_reply.started": "2021-06-07T04:20:00.387634Z"
    }
   },
   "outputs": [],
   "source": [
    "EPOCHS = 20\n",
    "INIT_LR = 1e-3\n",
    "BS = 32\n",
    "default_image_size = tuple((256, 256))\n",
    "image_size = 0\n",
    "directory_root = '../input/plantdisease/'\n",
    "width=256\n",
    "height=256\n",
    "depth=3"
   ]
  },
  {
   "cell_type": "code",
   "execution_count": 41,
   "metadata": {
    "_uuid": "c9c3e60b13ace6c8f3e54336e12f9970fde438a3",
    "execution": {
     "iopub.execute_input": "2021-06-07T04:20:02.857014Z",
     "iopub.status.busy": "2021-06-07T04:20:02.856752Z",
     "iopub.status.idle": "2021-06-07T04:20:02.864067Z",
     "shell.execute_reply": "2021-06-07T04:20:02.862540Z",
     "shell.execute_reply.started": "2021-06-07T04:20:02.856981Z"
    }
   },
   "outputs": [],
   "source": [
    "def convert_image_to_array(image_dir):\n",
    "    try:\n",
    "        image = cv2.imread(image_dir)\n",
    "        if image is not None :\n",
    "            image = cv2.resize(image, default_image_size)   \n",
    "            return img_to_array(image)\n",
    "        else :\n",
    "            return np.array([])\n",
    "    except Exception as e:\n",
    "        print(f\"Error : {e}\")\n",
    "        return None"
   ]
  },
  {
   "cell_type": "code",
   "execution_count": 42,
   "metadata": {
    "_uuid": "bb8d4c343314028f52ae3c3a840478a834a16c95",
    "execution": {
     "iopub.execute_input": "2021-06-07T04:20:06.836878Z",
     "iopub.status.busy": "2021-06-07T04:20:06.836585Z",
     "iopub.status.idle": "2021-06-07T04:20:13.623251Z",
     "shell.execute_reply": "2021-06-07T04:20:13.622438Z",
     "shell.execute_reply.started": "2021-06-07T04:20:06.836807Z"
    }
   },
   "outputs": [
    {
     "name": "stdout",
     "output_type": "stream",
     "text": [
      "[INFO] Loading images ...\n",
      "[INFO] Processing Pepper__bell___Bacterial_spot ...\n",
      "[INFO] Processing Potato___healthy ...\n",
      "[INFO] Processing Tomato_Leaf_Mold ...\n",
      "[INFO] Processing Tomato__Tomato_YellowLeaf__Curl_Virus ...\n",
      "[INFO] Processing Tomato_Bacterial_spot ...\n",
      "[INFO] Processing Tomato_Septoria_leaf_spot ...\n",
      "[INFO] Processing Tomato_healthy ...\n",
      "[INFO] Processing Tomato_Spider_mites_Two_spotted_spider_mite ...\n",
      "[INFO] Processing Tomato_Early_blight ...\n",
      "[INFO] Processing Tomato__Target_Spot ...\n",
      "[INFO] Processing Pepper__bell___healthy ...\n",
      "[INFO] Processing Potato___Late_blight ...\n",
      "[INFO] Processing Tomato_Late_blight ...\n",
      "[INFO] Processing Potato___Early_blight ...\n",
      "[INFO] Processing Tomato__Tomato_mosaic_virus ...\n",
      "[INFO] Processing PlantVillage ...\n",
      "[INFO] Image loading completed\n"
     ]
    }
   ],
   "source": [
    "image_list, label_list = [], []\n",
    "try:\n",
    "    print(\"[INFO] Loading images ...\")\n",
    "    root_dir = listdir(directory_root)\n",
    "    for directory in root_dir :\n",
    "        # remove .DS_Store from list\n",
    "        if directory == \".DS_Store\" :\n",
    "            root_dir.remove(directory)\n",
    "\n",
    "    for plant_folder in root_dir :\n",
    "        plant_disease_folder_list = listdir(f\"{directory_root}/{plant_folder}\")\n",
    "        \n",
    "        for disease_folder in plant_disease_folder_list :\n",
    "            # remove .DS_Store from list\n",
    "            if disease_folder == \".DS_Store\" :\n",
    "                plant_disease_folder_list.remove(disease_folder)\n",
    "\n",
    "        for plant_disease_folder in plant_disease_folder_list:\n",
    "            print(f\"[INFO] Processing {plant_disease_folder} ...\")\n",
    "            plant_disease_image_list = listdir(f\"{directory_root}/{plant_folder}/{plant_disease_folder}/\")\n",
    "                \n",
    "            for single_plant_disease_image in plant_disease_image_list :\n",
    "                if single_plant_disease_image == \".DS_Store\" :\n",
    "                    plant_disease_image_list.remove(single_plant_disease_image)\n",
    "\n",
    "            for image in plant_disease_image_list[:200]:\n",
    "                image_directory = f\"{directory_root}/{plant_folder}/{plant_disease_folder}/{image}\"\n",
    "                if image_directory.endswith(\".jpg\") == True or image_directory.endswith(\".JPG\") == True:\n",
    "                    image_list.append(convert_image_to_array(image_directory))\n",
    "                    label_list.append(plant_disease_folder)\n",
    "    print(\"[INFO] Image loading completed\")  \n",
    "except Exception as e:\n",
    "    print(f\"Error : {e}\")"
   ]
  },
  {
   "cell_type": "markdown",
   "metadata": {
    "_uuid": "35c4b76d33e0263523e479657580104532f81d6e"
   },
   "source": [
    "Get Size of Processed Image"
   ]
  },
  {
   "cell_type": "code",
   "execution_count": 43,
   "metadata": {
    "_uuid": "6ee1ad9c422f112ec2862699b5c0f68b8d658123",
    "execution": {
     "iopub.execute_input": "2021-06-07T04:20:17.491551Z",
     "iopub.status.busy": "2021-06-07T04:20:17.491305Z",
     "iopub.status.idle": "2021-06-07T04:20:17.496170Z",
     "shell.execute_reply": "2021-06-07T04:20:17.495329Z",
     "shell.execute_reply.started": "2021-06-07T04:20:17.491509Z"
    }
   },
   "outputs": [],
   "source": [
    "image_size = len(image_list)"
   ]
  },
  {
   "cell_type": "code",
   "execution_count": 44,
   "metadata": {
    "_uuid": "904ff893fe14f5060dd9e7be2ccf96ec793597e5",
    "execution": {
     "iopub.execute_input": "2021-06-07T04:20:20.023468Z",
     "iopub.status.busy": "2021-06-07T04:20:20.022890Z",
     "iopub.status.idle": "2021-06-07T04:20:20.038614Z",
     "shell.execute_reply": "2021-06-07T04:20:20.037994Z",
     "shell.execute_reply.started": "2021-06-07T04:20:20.023414Z"
    }
   },
   "outputs": [],
   "source": [
    "label_binarizer = LabelBinarizer()\n",
    "image_labels = label_binarizer.fit_transform(label_list)\n",
    "pickle.dump(label_binarizer,open('label_transform.pkl', 'wb'))\n",
    "n_classes = len(label_binarizer.classes_)"
   ]
  },
  {
   "cell_type": "markdown",
   "metadata": {
    "_uuid": "f860c29a1d714f06d25e6a0c5bca94739e5d24cc"
   },
   "source": [
    "Print the classes"
   ]
  },
  {
   "cell_type": "code",
   "execution_count": 45,
   "metadata": {
    "_uuid": "0f876397c40c3c8aa09772a92fd60481fc9ba268",
    "execution": {
     "iopub.execute_input": "2021-06-07T04:20:22.952759Z",
     "iopub.status.busy": "2021-06-07T04:20:22.952473Z",
     "iopub.status.idle": "2021-06-07T04:20:22.958430Z",
     "shell.execute_reply": "2021-06-07T04:20:22.956835Z",
     "shell.execute_reply.started": "2021-06-07T04:20:22.952700Z"
    }
   },
   "outputs": [
    {
     "name": "stdout",
     "output_type": "stream",
     "text": [
      "['Pepper__bell___Bacterial_spot' 'Pepper__bell___healthy'\n",
      " 'Potato___Early_blight' 'Potato___Late_blight' 'Potato___healthy'\n",
      " 'Tomato_Bacterial_spot' 'Tomato_Early_blight' 'Tomato_Late_blight'\n",
      " 'Tomato_Leaf_Mold' 'Tomato_Septoria_leaf_spot'\n",
      " 'Tomato_Spider_mites_Two_spotted_spider_mite' 'Tomato__Target_Spot'\n",
      " 'Tomato__Tomato_YellowLeaf__Curl_Virus' 'Tomato__Tomato_mosaic_virus'\n",
      " 'Tomato_healthy']\n"
     ]
    }
   ],
   "source": [
    "print(label_binarizer.classes_)"
   ]
  },
  {
   "cell_type": "code",
   "execution_count": 46,
   "metadata": {
    "_uuid": "6cd9c977b3d164a5570a0c24fdd8624adb9d56b8",
    "execution": {
     "iopub.execute_input": "2021-06-07T04:20:25.627522Z",
     "iopub.status.busy": "2021-06-07T04:20:25.627222Z",
     "iopub.status.idle": "2021-06-07T04:21:02.915201Z",
     "shell.execute_reply": "2021-06-07T04:21:02.914114Z",
     "shell.execute_reply.started": "2021-06-07T04:20:25.627471Z"
    }
   },
   "outputs": [],
   "source": [
    "np_image_list = np.array(image_list, dtype=np.float16) / 225.0"
   ]
  },
  {
   "cell_type": "code",
   "execution_count": 47,
   "metadata": {
    "_uuid": "9f4829560fdfa218cee18c1cfb2eb9452ef180e5",
    "execution": {
     "iopub.execute_input": "2021-06-07T04:21:51.008255Z",
     "iopub.status.busy": "2021-06-07T04:21:51.007967Z",
     "iopub.status.idle": "2021-06-07T04:21:51.386175Z",
     "shell.execute_reply": "2021-06-07T04:21:51.385149Z",
     "shell.execute_reply.started": "2021-06-07T04:21:51.008198Z"
    }
   },
   "outputs": [
    {
     "name": "stdout",
     "output_type": "stream",
     "text": [
      "[INFO] Spliting data to train, test\n"
     ]
    }
   ],
   "source": [
    "print(\"[INFO] Spliting data to train, test\")\n",
    "x_train, x_test, y_train, y_test = train_test_split(np_image_list, image_labels, test_size=0.2, random_state = 42) "
   ]
  },
  {
   "cell_type": "code",
   "execution_count": 48,
   "metadata": {
    "_uuid": "eec8afa64e676d52c814fc8e096955a60f13b6c5",
    "execution": {
     "iopub.execute_input": "2021-06-07T04:21:54.247283Z",
     "iopub.status.busy": "2021-06-07T04:21:54.247004Z",
     "iopub.status.idle": "2021-06-07T04:21:54.250947Z",
     "shell.execute_reply": "2021-06-07T04:21:54.250470Z",
     "shell.execute_reply.started": "2021-06-07T04:21:54.247228Z"
    }
   },
   "outputs": [],
   "source": [
    "aug = ImageDataGenerator(\n",
    "    rotation_range=25, width_shift_range=0.1,\n",
    "    height_shift_range=0.1, shear_range=0.2, \n",
    "    zoom_range=0.2,horizontal_flip=True, \n",
    "    fill_mode=\"nearest\")"
   ]
  },
  {
   "cell_type": "code",
   "execution_count": 49,
   "metadata": {
    "_cell_guid": "79c7e3d0-c299-4dcb-8224-4455121ee9b0",
    "_uuid": "d629ff2d2480ee46fbb7e2d37f6b5fab8052498a",
    "execution": {
     "iopub.execute_input": "2021-06-07T04:21:57.402863Z",
     "iopub.status.busy": "2021-06-07T04:21:57.402519Z",
     "iopub.status.idle": "2021-06-07T04:21:58.003090Z",
     "shell.execute_reply": "2021-06-07T04:21:58.002594Z",
     "shell.execute_reply.started": "2021-06-07T04:21:57.402815Z"
    }
   },
   "outputs": [],
   "source": [
    "model = Sequential()\n",
    "inputShape = (height, width, depth)\n",
    "chanDim = -1\n",
    "if K.image_data_format() == \"channels_first\":\n",
    "    inputShape = (depth, height, width)\n",
    "    chanDim = 1\n",
    "model.add(Conv2D(32, (3, 3), padding=\"same\",input_shape=inputShape))\n",
    "model.add(Activation(\"relu\"))\n",
    "model.add(BatchNormalization(axis=chanDim))\n",
    "model.add(MaxPooling2D(pool_size=(3, 3)))\n",
    "model.add(Dropout(0.25))\n",
    "model.add(Conv2D(64, (3, 3), padding=\"same\"))\n",
    "model.add(Activation(\"relu\"))\n",
    "model.add(BatchNormalization(axis=chanDim))\n",
    "model.add(Conv2D(64, (3, 3), padding=\"same\"))\n",
    "model.add(Activation(\"relu\"))\n",
    "model.add(BatchNormalization(axis=chanDim))\n",
    "model.add(MaxPooling2D(pool_size=(2, 2)))\n",
    "model.add(Dropout(0.25))\n",
    "model.add(Conv2D(128, (3, 3), padding=\"same\"))\n",
    "model.add(Activation(\"relu\"))\n",
    "model.add(BatchNormalization(axis=chanDim))\n",
    "model.add(Conv2D(128, (3, 3), padding=\"same\"))\n",
    "model.add(Activation(\"relu\"))\n",
    "model.add(BatchNormalization(axis=chanDim))\n",
    "model.add(MaxPooling2D(pool_size=(2, 2)))\n",
    "model.add(Dropout(0.25))\n",
    "model.add(Flatten())\n",
    "model.add(Dense(1024))\n",
    "model.add(Activation(\"relu\"))\n",
    "model.add(BatchNormalization())\n",
    "model.add(Dropout(0.5))\n",
    "model.add(Dense(n_classes))\n",
    "model.add(Activation(\"softmax\"))"
   ]
  },
  {
   "cell_type": "markdown",
   "metadata": {
    "_uuid": "53b13c03e4cea6dc2453a84e254b806ebeed2d99"
   },
   "source": [
    "Model Summary"
   ]
  },
  {
   "cell_type": "code",
   "execution_count": 50,
   "metadata": {
    "_uuid": "1e1523a834fbf872940171fbdefb3dcce2b5f31b",
    "execution": {
     "iopub.execute_input": "2021-06-07T04:22:02.002524Z",
     "iopub.status.busy": "2021-06-07T04:22:02.002156Z",
     "iopub.status.idle": "2021-06-07T04:22:02.014087Z",
     "shell.execute_reply": "2021-06-07T04:22:02.013337Z",
     "shell.execute_reply.started": "2021-06-07T04:22:02.002478Z"
    }
   },
   "outputs": [
    {
     "name": "stdout",
     "output_type": "stream",
     "text": [
      "_________________________________________________________________\n",
      "Layer (type)                 Output Shape              Param #   \n",
      "=================================================================\n",
      "conv2d_6 (Conv2D)            (None, 256, 256, 32)      896       \n",
      "_________________________________________________________________\n",
      "activation_8 (Activation)    (None, 256, 256, 32)      0         \n",
      "_________________________________________________________________\n",
      "batch_normalization_7 (Batch (None, 256, 256, 32)      128       \n",
      "_________________________________________________________________\n",
      "max_pooling2d_4 (MaxPooling2 (None, 85, 85, 32)        0         \n",
      "_________________________________________________________________\n",
      "dropout_5 (Dropout)          (None, 85, 85, 32)        0         \n",
      "_________________________________________________________________\n",
      "conv2d_7 (Conv2D)            (None, 85, 85, 64)        18496     \n",
      "_________________________________________________________________\n",
      "activation_9 (Activation)    (None, 85, 85, 64)        0         \n",
      "_________________________________________________________________\n",
      "batch_normalization_8 (Batch (None, 85, 85, 64)        256       \n",
      "_________________________________________________________________\n",
      "conv2d_8 (Conv2D)            (None, 85, 85, 64)        36928     \n",
      "_________________________________________________________________\n",
      "activation_10 (Activation)   (None, 85, 85, 64)        0         \n",
      "_________________________________________________________________\n",
      "batch_normalization_9 (Batch (None, 85, 85, 64)        256       \n",
      "_________________________________________________________________\n",
      "max_pooling2d_5 (MaxPooling2 (None, 42, 42, 64)        0         \n",
      "_________________________________________________________________\n",
      "dropout_6 (Dropout)          (None, 42, 42, 64)        0         \n",
      "_________________________________________________________________\n",
      "conv2d_9 (Conv2D)            (None, 42, 42, 128)       73856     \n",
      "_________________________________________________________________\n",
      "activation_11 (Activation)   (None, 42, 42, 128)       0         \n",
      "_________________________________________________________________\n",
      "batch_normalization_10 (Batc (None, 42, 42, 128)       512       \n",
      "_________________________________________________________________\n",
      "conv2d_10 (Conv2D)           (None, 42, 42, 128)       147584    \n",
      "_________________________________________________________________\n",
      "activation_12 (Activation)   (None, 42, 42, 128)       0         \n",
      "_________________________________________________________________\n",
      "batch_normalization_11 (Batc (None, 42, 42, 128)       512       \n",
      "_________________________________________________________________\n",
      "max_pooling2d_6 (MaxPooling2 (None, 21, 21, 128)       0         \n",
      "_________________________________________________________________\n",
      "dropout_7 (Dropout)          (None, 21, 21, 128)       0         \n",
      "_________________________________________________________________\n",
      "flatten_2 (Flatten)          (None, 56448)             0         \n",
      "_________________________________________________________________\n",
      "dense_3 (Dense)              (None, 1024)              57803776  \n",
      "_________________________________________________________________\n",
      "activation_13 (Activation)   (None, 1024)              0         \n",
      "_________________________________________________________________\n",
      "batch_normalization_12 (Batc (None, 1024)              4096      \n",
      "_________________________________________________________________\n",
      "dropout_8 (Dropout)          (None, 1024)              0         \n",
      "_________________________________________________________________\n",
      "dense_4 (Dense)              (None, 15)                15375     \n",
      "_________________________________________________________________\n",
      "activation_14 (Activation)   (None, 15)                0         \n",
      "=================================================================\n",
      "Total params: 58,102,671\n",
      "Trainable params: 58,099,791\n",
      "Non-trainable params: 2,880\n",
      "_________________________________________________________________\n"
     ]
    }
   ],
   "source": [
    "model.summary()"
   ]
  },
  {
   "cell_type": "code",
   "execution_count": 51,
   "metadata": {
    "_uuid": "b21dffee32c325136b4ea23ac511049723f34a24",
    "execution": {
     "iopub.execute_input": "2021-06-07T04:22:06.282405Z",
     "iopub.status.busy": "2021-06-07T04:22:06.282109Z",
     "iopub.status.idle": "2021-06-07T04:22:06.333438Z",
     "shell.execute_reply": "2021-06-07T04:22:06.332890Z",
     "shell.execute_reply.started": "2021-06-07T04:22:06.282348Z"
    }
   },
   "outputs": [
    {
     "name": "stdout",
     "output_type": "stream",
     "text": [
      "[INFO] training network...\n"
     ]
    }
   ],
   "source": [
    "opt = Adam(lr=INIT_LR, decay=INIT_LR / EPOCHS)\n",
    "# distribution\n",
    "model.compile(loss=\"binary_crossentropy\", optimizer=opt,metrics=[\"accuracy\"])\n",
    "# train the network\n",
    "print(\"[INFO] training network...\")"
   ]
  },
  {
   "cell_type": "code",
   "execution_count": 52,
   "metadata": {
    "_uuid": "1a13efc5ded339fc3c0d9e61041e8ca555362db0",
    "execution": {
     "iopub.execute_input": "2021-06-07T04:22:09.332252Z",
     "iopub.status.busy": "2021-06-07T04:22:09.331802Z",
     "iopub.status.idle": "2021-06-07T07:16:30.231535Z",
     "shell.execute_reply": "2021-06-07T07:16:30.230119Z",
     "shell.execute_reply.started": "2021-06-07T04:22:09.332214Z"
    }
   },
   "outputs": [
    {
     "name": "stdout",
     "output_type": "stream",
     "text": [
      "Epoch 1/20\n",
      "73/73 [==============================] - 530s 7s/step - loss: 0.2291 - acc: 0.9299 - val_loss: 0.6952 - val_acc: 0.8988\n",
      "Epoch 2/20\n",
      "73/73 [==============================] - 521s 7s/step - loss: 0.1910 - acc: 0.9360 - val_loss: 0.6432 - val_acc: 0.9014\n",
      "Epoch 3/20\n",
      "73/73 [==============================] - 521s 7s/step - loss: 0.1482 - acc: 0.9492 - val_loss: 0.5961 - val_acc: 0.9064\n",
      "Epoch 4/20\n",
      "73/73 [==============================] - 524s 7s/step - loss: 0.1247 - acc: 0.9566 - val_loss: 0.3224 - val_acc: 0.9268\n",
      "Epoch 5/20\n",
      "73/73 [==============================] - 524s 7s/step - loss: 0.1081 - acc: 0.9613 - val_loss: 0.6206 - val_acc: 0.9057\n",
      "Epoch 6/20\n",
      "73/73 [==============================] - 523s 7s/step - loss: 0.1100 - acc: 0.9626 - val_loss: 0.4183 - val_acc: 0.9160\n",
      "Epoch 7/20\n",
      "73/73 [==============================] - 522s 7s/step - loss: 0.0936 - acc: 0.9661 - val_loss: 0.1989 - val_acc: 0.9445\n",
      "Epoch 8/20\n",
      "73/73 [==============================] - 522s 7s/step - loss: 0.0925 - acc: 0.9675 - val_loss: 0.2759 - val_acc: 0.9372\n",
      "Epoch 9/20\n",
      "73/73 [==============================] - 522s 7s/step - loss: 0.0793 - acc: 0.9692 - val_loss: 0.5920 - val_acc: 0.9136\n",
      "Epoch 10/20\n",
      "73/73 [==============================] - 523s 7s/step - loss: 0.0677 - acc: 0.9743 - val_loss: 0.0995 - val_acc: 0.9669\n",
      "Epoch 11/20\n",
      "73/73 [==============================] - 523s 7s/step - loss: 0.0683 - acc: 0.9753 - val_loss: 0.3352 - val_acc: 0.9309\n",
      "Epoch 12/20\n",
      "73/73 [==============================] - 523s 7s/step - loss: 0.0669 - acc: 0.9743 - val_loss: 0.2969 - val_acc: 0.9340\n",
      "Epoch 13/20\n",
      "73/73 [==============================] - 522s 7s/step - loss: 0.0582 - acc: 0.9787 - val_loss: 0.1853 - val_acc: 0.9505\n",
      "Epoch 14/20\n",
      "73/73 [==============================] - 520s 7s/step - loss: 0.0560 - acc: 0.9789 - val_loss: 0.1796 - val_acc: 0.9525\n",
      "Epoch 15/20\n",
      "73/73 [==============================] - 523s 7s/step - loss: 0.0522 - acc: 0.9812 - val_loss: 0.2519 - val_acc: 0.9474\n",
      "Epoch 16/20\n",
      "73/73 [==============================] - 522s 7s/step - loss: 0.0531 - acc: 0.9808 - val_loss: 0.3554 - val_acc: 0.9319\n",
      "Epoch 17/20\n",
      "73/73 [==============================] - 522s 7s/step - loss: 0.0506 - acc: 0.9811 - val_loss: 0.1943 - val_acc: 0.9543\n",
      "Epoch 18/20\n",
      "73/73 [==============================] - 520s 7s/step - loss: 0.0502 - acc: 0.9818 - val_loss: 0.0765 - val_acc: 0.9772\n",
      "Epoch 19/20\n",
      "73/73 [==============================] - 520s 7s/step - loss: 0.0492 - acc: 0.9817 - val_loss: 0.3587 - val_acc: 0.9263\n",
      "Epoch 20/20\n",
      "73/73 [==============================] - 528s 7s/step - loss: 0.0447 - acc: 0.9838 - val_loss: 0.3615 - val_acc: 0.9318\n"
     ]
    }
   ],
   "source": [
    "history = model.fit_generator(\n",
    "    aug.flow(x_train, y_train, batch_size=BS),\n",
    "    validation_data=(x_test, y_test),\n",
    "    steps_per_epoch=len(x_train) // BS,\n",
    "    epochs=EPOCHS, verbose=1\n",
    "    )"
   ]
  },
  {
   "cell_type": "markdown",
   "metadata": {
    "_uuid": "1495fea08b37e4d4293f975ba30e6c1fc7a85ed9"
   },
   "source": [
    "Plot the train and val curve"
   ]
  },
  {
   "cell_type": "code",
   "execution_count": 53,
   "metadata": {
    "_uuid": "0af5e0f23657a4effc2d21cf8e840e81f42ec8e7",
    "execution": {
     "iopub.execute_input": "2021-06-07T07:21:36.759777Z",
     "iopub.status.busy": "2021-06-07T07:21:36.757961Z",
     "iopub.status.idle": "2021-06-07T07:21:37.119502Z",
     "shell.execute_reply": "2021-06-07T07:21:37.118836Z",
     "shell.execute_reply.started": "2021-06-07T07:21:36.759733Z"
    }
   },
   "outputs": [
    {
     "data": {
      "image/png": "[encoded data removed]",
      "text/plain": [
       "<Figure size 432x288 with 1 Axes>"
      ]
     },
     "metadata": {
      "needs_background": "light"
     },
     "output_type": "display_data"
    },
    {
     "data": {
      "image/png": "[encoded data removed]",
      "text/plain": [
       "<Figure size 432x288 with 1 Axes>"
      ]
     },
     "metadata": {
      "needs_background": "light"
     },
     "output_type": "display_data"
    }
   ],
   "source": [
    "acc = history.history['acc']\n",
    "val_acc = history.history['val_acc']\n",
    "loss = history.history['loss']\n",
    "val_loss = history.history['val_loss']\n",
    "epochs = range(1, len(acc) + 1)\n",
    "#Train and validation accuracy\n",
    "plt.plot(epochs, acc, 'b', label='Training accurarcy')\n",
    "plt.plot(epochs, val_acc, 'r', label='Validation accurarcy')\n",
    "plt.title('Training and Validation accurarcy')\n",
    "plt.legend()\n",
    "\n",
    "plt.figure()\n",
    "#Train and validation loss\n",
    "plt.plot(epochs, loss, 'b', label='Training loss')\n",
    "plt.plot(epochs, val_loss, 'r', label='Validation loss')\n",
    "plt.title('Training and Validation loss')\n",
    "plt.legend()\n",
    "plt.show()"
   ]
  },
  {
   "cell_type": "markdown",
   "metadata": {
    "_uuid": "9ca1a4489bd624c69a13cd37c0c2306ac8de55c2"
   },
   "source": [
    "Model Accuracy"
   ]
  },
  {
   "cell_type": "code",
   "execution_count": 54,
   "metadata": {
    "_uuid": "bb44f3d0b7e2862bc7d1a032612ebfd48212c1fe",
    "execution": {
     "iopub.execute_input": "2021-06-07T07:21:43.963680Z",
     "iopub.status.busy": "2021-06-07T07:21:43.963387Z",
     "iopub.status.idle": "2021-06-07T07:22:12.889318Z",
     "shell.execute_reply": "2021-06-07T07:22:12.888487Z",
     "shell.execute_reply.started": "2021-06-07T07:21:43.963634Z"
    }
   },
   "outputs": [
    {
     "name": "stdout",
     "output_type": "stream",
     "text": [
      "[INFO] Calculating model accuracy\n",
      "591/591 [==============================] - 29s 49ms/step\n",
      "Test Accuracy: 93.1754104780465\n"
     ]
    }
   ],
   "source": [
    "print(\"[INFO] Calculating model accuracy\")\n",
    "scores = model.evaluate(x_test, y_test)\n",
    "print(f\"Test Accuracy: {scores[1]*100}\")"
   ]
  },
  {
   "cell_type": "markdown",
   "metadata": {
    "_uuid": "2a1f759db8afe933e62fe4cf8332cb303bb11be8"
   },
   "source": [
    "Save model using Pickle"
   ]
  },
  {
   "cell_type": "code",
   "execution_count": 55,
   "metadata": {
    "_uuid": "5cdf06adf492d79ed28fbdc36e02ad7489c7b33e",
    "execution": {
     "iopub.execute_input": "2021-06-07T07:22:20.204090Z",
     "iopub.status.busy": "2021-06-07T07:22:20.203761Z",
     "iopub.status.idle": "2021-06-07T07:22:23.988635Z",
     "shell.execute_reply": "2021-06-07T07:22:23.986970Z",
     "shell.execute_reply.started": "2021-06-07T07:22:20.204046Z"
    }
   },
   "outputs": [
    {
     "name": "stdout",
     "output_type": "stream",
     "text": [
      "[INFO] Saving model...\n"
     ]
    }
   ],
   "source": [
    "# save the model to disk\n",
    "print(\"[INFO] Saving model...\")\n",
    "pickle.dump(model,open('cnn_model.pkl', 'wb'))"
   ]
  },
  {
   "cell_type": "code",
   "execution_count": 56,
   "metadata": {
    "execution": {
     "iopub.execute_input": "2021-06-07T07:22:28.872395Z",
     "iopub.status.busy": "2021-06-07T07:22:28.872050Z",
     "iopub.status.idle": "2021-06-07T07:22:37.738553Z",
     "shell.execute_reply": "2021-06-07T07:22:37.737462Z",
     "shell.execute_reply.started": "2021-06-07T07:22:28.872251Z"
    }
   },
   "outputs": [],
   "source": [
    "loaded_model = pickle.load(open('cnn_model.pkl', 'rb'))"
   ]
  },
  {
   "cell_type": "code",
   "execution_count": 85,
   "metadata": {
    "execution": {
     "iopub.execute_input": "2021-06-07T07:51:20.588044Z",
     "iopub.status.busy": "2021-06-07T07:51:20.587572Z",
     "iopub.status.idle": "2021-06-07T07:51:20.617118Z",
     "shell.execute_reply": "2021-06-07T07:51:20.616374Z",
     "shell.execute_reply.started": "2021-06-07T07:51:20.587821Z"
    }
   },
   "outputs": [],
   "source": [
    "image_dir=\"../input/plantdisease/PlantVillage/Pepper__bell___Bacterial_spot/0022d6b7-d47c-4ee2-ae9a-392a53f48647___JR_B.Spot 8964.JPG\"\n",
    "im=convert_image_to_array(image_dir)\n",
    "np_image_li = np.array(im, dtype=np.float16) / 225.0\n",
    "npp_image = np.expand_dims(np_image_li, axis=0)"
   ]
  },
  {
   "cell_type": "code",
   "execution_count": 86,
   "metadata": {
    "execution": {
     "iopub.execute_input": "2021-06-07T07:51:23.246414Z",
     "iopub.status.busy": "2021-06-07T07:51:23.246131Z",
     "iopub.status.idle": "2021-06-07T07:51:23.311034Z",
     "shell.execute_reply": "2021-06-07T07:51:23.310412Z",
     "shell.execute_reply.started": "2021-06-07T07:51:23.246367Z"
    }
   },
   "outputs": [
    {
     "name": "stdout",
     "output_type": "stream",
     "text": [
      "[[8.0920237e-01 1.0933936e-01 3.2156364e-03 1.0793479e-05 4.8782505e-05\n",
      "  8.6893670e-05 3.1984220e-03 6.8914428e-02 2.6948749e-08 8.1977453e-07\n",
      "  5.9842517e-07 1.0118356e-08 5.9814625e-03 5.4054805e-09 3.6696653e-07]]\n"
     ]
    }
   ],
   "source": [
    "result=model.predict(npp_image)\n",
    "print(result)"
   ]
  },
  {
   "cell_type": "code",
   "execution_count": 87,
   "metadata": {
    "execution": {
     "iopub.execute_input": "2021-06-07T07:51:26.881740Z",
     "iopub.status.busy": "2021-06-07T07:51:26.881447Z",
     "iopub.status.idle": "2021-06-07T07:51:26.888139Z",
     "shell.execute_reply": "2021-06-07T07:51:26.887221Z",
     "shell.execute_reply.started": "2021-06-07T07:51:26.881702Z"
    }
   },
   "outputs": [
    {
     "name": "stdout",
     "output_type": "stream",
     "text": [
      "probability:0.8092024\n",
      "Pepper__bell___Bacterial_spot\n"
     ]
    }
   ],
   "source": [
    "itemindex = np.where(result==np.max(result))\n",
    "print(\"probability:\"+str(np.max(result))+\"\\n\"+label_binarizer.classes_[itemindex[1][0]])"
   ]
  },
  {
   "cell_type": "code",
   "execution_count": 88,
   "metadata": {
    "execution": {
     "iopub.execute_input": "2021-06-07T07:51:31.922005Z",
     "iopub.status.busy": "2021-06-07T07:51:31.921562Z",
     "iopub.status.idle": "2021-06-07T07:51:31.928575Z",
     "shell.execute_reply": "2021-06-07T07:51:31.927286Z",
     "shell.execute_reply.started": "2021-06-07T07:51:31.921957Z"
    }
   },
   "outputs": [
    {
     "data": {
      "text/plain": [
       "'Pepper__bell___Bacterial_spot'"
      ]
     },
     "execution_count": 88,
     "metadata": {},
     "output_type": "execute_result"
    }
   ],
   "source": [
    "x = label_binarizer.classes_[itemindex[1][0]]\n",
    "x"
   ]
  },
  {
   "cell_type": "code",
   "execution_count": 92,
   "metadata": {
    "execution": {
     "iopub.execute_input": "2021-06-07T07:53:03.168802Z",
     "iopub.status.busy": "2021-06-07T07:53:03.168318Z",
     "iopub.status.idle": "2021-06-07T07:53:03.177398Z",
     "shell.execute_reply": "2021-06-07T07:53:03.176517Z",
     "shell.execute_reply.started": "2021-06-07T07:53:03.168757Z"
    }
   },
   "outputs": [
    {
     "name": "stdout",
     "output_type": "stream",
     "text": [
      "use copper sprays\n"
     ]
    }
   ],
   "source": [
    "if(x=='Potato___Early_blight'):\n",
    "    print(\"use mancozeb and cholorathalonil\")\n",
    "if(x=='Pepper__bell___Bacterial_spot'):\n",
    "    print(\"use copper sprays\")\n",
    "if(x=='Potato___Late_blight'):\n",
    "    print(\"use mancozeb and cholorathalonil\")\n",
    "if(x=='Tomato_Bacterial_spot'):\n",
    "    print(\"use copper sprays\")\n",
    "if(x=='Tomato_Early_blight'):\n",
    "    print(\"use mancozeb and cholorathalonil\")\n",
    "if(x=='Tomato_Late_blight'):\n",
    "    print(\"use mancozeb and cholorathalonil\")\n",
    "if(x=='Tomato_Leaf_Mold'):\n",
    "    print(\"use chladosporium fulvum\")\n",
    "if(x=='Tomato_Septoria_leaf_spot'):\n",
    "    print(\"use fungicides\")"
   ]
  },
  {
   "cell_type": "code",
   "execution_count": 93,
   "metadata": {
    "execution": {
     "iopub.execute_input": "2021-06-07T07:53:11.788197Z",
     "iopub.status.busy": "2021-06-07T07:53:11.787817Z",
     "iopub.status.idle": "2021-06-07T07:53:11.818622Z",
     "shell.execute_reply": "2021-06-07T07:53:11.817280Z",
     "shell.execute_reply.started": "2021-06-07T07:53:11.788145Z"
    }
   },
   "outputs": [],
   "source": [
    "image_dir=\"../input/plantdisease/PlantVillage/Potato___Late_blight/0085ef03-aec3-431a-99a1-de286e10c0cf___RS_LB 2949.JPG\"\n",
    "im=convert_image_to_array(image_dir)\n",
    "np_image_li = np.array(im, dtype=np.float16) / 225.0\n",
    "npp_image = np.expand_dims(np_image_li, axis=0)"
   ]
  },
  {
   "cell_type": "code",
   "execution_count": 94,
   "metadata": {
    "execution": {
     "iopub.execute_input": "2021-06-07T07:53:15.121936Z",
     "iopub.status.busy": "2021-06-07T07:53:15.121611Z",
     "iopub.status.idle": "2021-06-07T07:53:15.185340Z",
     "shell.execute_reply": "2021-06-07T07:53:15.183997Z",
     "shell.execute_reply.started": "2021-06-07T07:53:15.121868Z"
    }
   },
   "outputs": [
    {
     "name": "stdout",
     "output_type": "stream",
     "text": [
      "[[7.1398630e-03 4.3592171e-04 7.0253634e-03 6.1931247e-01 2.1299833e-01\n",
      "  6.5639270e-03 3.9374265e-03 1.2258803e-01 1.2442685e-07 2.3142068e-06\n",
      "  3.2790209e-05 2.4789449e-07 1.9963128e-02 5.6742831e-08 5.4092673e-08]]\n"
     ]
    }
   ],
   "source": [
    "result=model.predict(npp_image)\n",
    "print(result)"
   ]
  },
  {
   "cell_type": "code",
   "execution_count": 95,
   "metadata": {
    "execution": {
     "iopub.execute_input": "2021-06-07T07:53:18.037265Z",
     "iopub.status.busy": "2021-06-07T07:53:18.036982Z",
     "iopub.status.idle": "2021-06-07T07:53:18.043818Z",
     "shell.execute_reply": "2021-06-07T07:53:18.042770Z",
     "shell.execute_reply.started": "2021-06-07T07:53:18.037227Z"
    }
   },
   "outputs": [
    {
     "name": "stdout",
     "output_type": "stream",
     "text": [
      "probability:0.61931247\n",
      "Potato___Late_blight\n"
     ]
    }
   ],
   "source": [
    "itemindex = np.where(result==np.max(result))\n",
    "print(\"probability:\"+str(np.max(result))+\"\\n\"+label_binarizer.classes_[itemindex[1][0]])"
   ]
  },
  {
   "cell_type": "code",
   "execution_count": 96,
   "metadata": {
    "execution": {
     "iopub.execute_input": "2021-06-07T07:53:42.307299Z",
     "iopub.status.busy": "2021-06-07T07:53:42.307002Z",
     "iopub.status.idle": "2021-06-07T07:53:42.312666Z",
     "shell.execute_reply": "2021-06-07T07:53:42.312091Z",
     "shell.execute_reply.started": "2021-06-07T07:53:42.307251Z"
    }
   },
   "outputs": [
    {
     "data": {
      "text/plain": [
       "'Potato___Late_blight'"
      ]
     },
     "execution_count": 96,
     "metadata": {},
     "output_type": "execute_result"
    }
   ],
   "source": [
    "x = label_binarizer.classes_[itemindex[1][0]]\n",
    "x"
   ]
  },
  {
   "cell_type": "code",
   "execution_count": 97,
   "metadata": {
    "execution": {
     "iopub.execute_input": "2021-06-07T07:53:58.511700Z",
     "iopub.status.busy": "2021-06-07T07:53:58.511312Z",
     "iopub.status.idle": "2021-06-07T07:53:58.519331Z",
     "shell.execute_reply": "2021-06-07T07:53:58.518816Z",
     "shell.execute_reply.started": "2021-06-07T07:53:58.511662Z"
    }
   },
   "outputs": [
    {
     "name": "stdout",
     "output_type": "stream",
     "text": [
      "use mancozeb and cholorathalonil\n"
     ]
    }
   ],
   "source": [
    "if(x=='Potato___Early_blight'):\n",
    "    print(\"use mancozeb and cholorathalonil\")\n",
    "if(x=='Pepper__bell___Bacterial_spot'):\n",
    "    print(\"use copper sprays\")\n",
    "if(x=='Potato___Late_blight'):\n",
    "    print(\"use mancozeb and cholorathalonil\")\n",
    "if(x=='Tomato_Bacterial_spot'):\n",
    "    print(\"use copper sprays\")\n",
    "if(x=='Tomato_Early_blight'):\n",
    "    print(\"use mancozeb and cholorathalonil\")\n",
    "if(x=='Tomato_Late_blight'):\n",
    "    print(\"use mancozeb and cholorathalonil\")\n",
    "if(x=='Tomato_Leaf_Mold'):\n",
    "    print(\"use chladosporium fulvum\")\n",
    "if(x=='Tomato_Septoria_leaf_spot'):\n",
    "    print(\"use fungicides\")"
   ]
  },
  {
   "cell_type": "code",
   "execution_count": 98,
   "metadata": {
    "execution": {
     "iopub.execute_input": "2021-06-07T07:54:04.106961Z",
     "iopub.status.busy": "2021-06-07T07:54:04.106526Z",
     "iopub.status.idle": "2021-06-07T07:54:04.131149Z",
     "shell.execute_reply": "2021-06-07T07:54:04.130191Z",
     "shell.execute_reply.started": "2021-06-07T07:54:04.106912Z"
    }
   },
   "outputs": [],
   "source": [
    "image_dir=\"../input/plantdisease/PlantVillage/Tomato_healthy/000146ff-92a4-4db6-90ad-8fce2ae4fddd___GH_HL Leaf 259.1.JPG\"\n",
    "im=convert_image_to_array(image_dir)\n",
    "np_image_li = np.array(im, dtype=np.float16) / 225.0\n",
    "npp_image = np.expand_dims(np_image_li, axis=0)"
   ]
  },
  {
   "cell_type": "code",
   "execution_count": 99,
   "metadata": {
    "execution": {
     "iopub.execute_input": "2021-06-07T07:54:07.241635Z",
     "iopub.status.busy": "2021-06-07T07:54:07.241280Z",
     "iopub.status.idle": "2021-06-07T07:54:07.299279Z",
     "shell.execute_reply": "2021-06-07T07:54:07.298747Z",
     "shell.execute_reply.started": "2021-06-07T07:54:07.241479Z"
    }
   },
   "outputs": [
    {
     "name": "stdout",
     "output_type": "stream",
     "text": [
      "[[2.8328073e-10 9.9087649e-10 1.2873499e-09 1.3048640e-10 1.3722327e-07\n",
      "  1.6941160e-05 1.0337776e-09 4.2312305e-09 3.3443928e-11 1.5580341e-14\n",
      "  4.5545789e-10 2.1689665e-10 8.5536644e-09 2.0108108e-11 9.9998295e-01]]\n"
     ]
    }
   ],
   "source": [
    "result=model.predict(npp_image)\n",
    "print(result)"
   ]
  },
  {
   "cell_type": "code",
   "execution_count": 100,
   "metadata": {
    "execution": {
     "iopub.execute_input": "2021-06-07T07:54:11.546427Z",
     "iopub.status.busy": "2021-06-07T07:54:11.546207Z",
     "iopub.status.idle": "2021-06-07T07:54:11.551789Z",
     "shell.execute_reply": "2021-06-07T07:54:11.550945Z",
     "shell.execute_reply.started": "2021-06-07T07:54:11.546396Z"
    }
   },
   "outputs": [
    {
     "name": "stdout",
     "output_type": "stream",
     "text": [
      "probability:0.99998295\n",
      "Tomato_healthy\n"
     ]
    }
   ],
   "source": [
    "itemindex = np.where(result==np.max(result))\n",
    "print(\"probability:\"+str(np.max(result))+\"\\n\"+label_binarizer.classes_[itemindex[1][0]])"
   ]
  },
  {
   "cell_type": "code",
   "execution_count": 101,
   "metadata": {
    "execution": {
     "iopub.execute_input": "2021-06-07T07:54:25.982229Z",
     "iopub.status.busy": "2021-06-07T07:54:25.981770Z",
     "iopub.status.idle": "2021-06-07T07:54:25.988909Z",
     "shell.execute_reply": "2021-06-07T07:54:25.987658Z",
     "shell.execute_reply.started": "2021-06-07T07:54:25.982184Z"
    }
   },
   "outputs": [
    {
     "data": {
      "text/plain": [
       "'Tomato_healthy'"
      ]
     },
     "execution_count": 101,
     "metadata": {},
     "output_type": "execute_result"
    }
   ],
   "source": [
    "x = label_binarizer.classes_[itemindex[1][0]]\n",
    "x"
   ]
  },
  {
   "cell_type": "code",
   "execution_count": 102,
   "metadata": {
    "execution": {
     "iopub.execute_input": "2021-06-07T07:55:40.587574Z",
     "iopub.status.busy": "2021-06-07T07:55:40.587286Z",
     "iopub.status.idle": "2021-06-07T07:55:40.598140Z",
     "shell.execute_reply": "2021-06-07T07:55:40.597081Z",
     "shell.execute_reply.started": "2021-06-07T07:55:40.587526Z"
    }
   },
   "outputs": [
    {
     "name": "stdout",
     "output_type": "stream",
     "text": [
      "healthy plant\n"
     ]
    }
   ],
   "source": [
    "if(x=='Potato___Early_blight'):\n",
    "    print(\"use mancozeb and cholorathalonil\")\n",
    "if(x=='Pepper__bell___Bacterial_spot'):\n",
    "    print(\"use copper sprays\")\n",
    "if(x=='Potato___Late_blight'):\n",
    "    print(\"use mancozeb and cholorathalonil\")\n",
    "if(x=='Tomato_Bacterial_spot'):\n",
    "    print(\"use copper sprays\")\n",
    "if(x=='Tomato_Early_blight'):\n",
    "    print(\"use mancozeb and cholorathalonil\")\n",
    "if(x=='Tomato_Late_blight'):\n",
    "    print(\"use mancozeb and cholorathalonil\")\n",
    "if(x=='Tomato_Leaf_Mold'):\n",
    "    print(\"use chladosporium fulvum\")\n",
    "if(x=='Tomato_Septoria_leaf_spot'):\n",
    "    print(\"use fungicides\")\n",
    "if(x=='Potato___healthy' or x=='Tomato_healthy' or x=='Pepper__bell___healthy'):\n",
    "    print(\"healthy plant\")"
   ]
  },
  {
   "cell_type": "code",
   "execution_count": 103,
   "metadata": {
    "execution": {
     "iopub.execute_input": "2021-06-07T07:55:45.697442Z",
     "iopub.status.busy": "2021-06-07T07:55:45.697136Z",
     "iopub.status.idle": "2021-06-07T07:55:45.727675Z",
     "shell.execute_reply": "2021-06-07T07:55:45.726440Z",
     "shell.execute_reply.started": "2021-06-07T07:55:45.697390Z"
    }
   },
   "outputs": [],
   "source": [
    "image_dir=\"../input/plantdisease/PlantVillage/Pepper__bell___healthy/00100ffa-095e-4881-aebf-61fe5af7226e___JR_HL 7886.JPG\"\n",
    "im=convert_image_to_array(image_dir)\n",
    "np_image_li = np.array(im, dtype=np.float16) / 225.0\n",
    "npp_image = np.expand_dims(np_image_li, axis=0)"
   ]
  },
  {
   "cell_type": "code",
   "execution_count": 104,
   "metadata": {
    "execution": {
     "iopub.execute_input": "2021-06-07T07:55:53.827214Z",
     "iopub.status.busy": "2021-06-07T07:55:53.826961Z",
     "iopub.status.idle": "2021-06-07T07:55:53.894974Z",
     "shell.execute_reply": "2021-06-07T07:55:53.893939Z",
     "shell.execute_reply.started": "2021-06-07T07:55:53.827167Z"
    }
   },
   "outputs": [
    {
     "name": "stdout",
     "output_type": "stream",
     "text": [
      "[[6.1651247e-07 9.9995553e-01 8.5446246e-09 8.5166867e-13 7.8322074e-07\n",
      "  7.3097062e-09 6.8107097e-06 3.3239870e-05 2.5706960e-12 2.5500182e-09\n",
      "  3.6139316e-09 7.3001745e-13 2.9596717e-06 8.1671458e-12 3.2373870e-10]]\n"
     ]
    }
   ],
   "source": [
    "result=model.predict(npp_image)\n",
    "print(result)"
   ]
  },
  {
   "cell_type": "code",
   "execution_count": 105,
   "metadata": {
    "execution": {
     "iopub.execute_input": "2021-06-07T07:55:57.596824Z",
     "iopub.status.busy": "2021-06-07T07:55:57.596460Z",
     "iopub.status.idle": "2021-06-07T07:55:57.601265Z",
     "shell.execute_reply": "2021-06-07T07:55:57.600459Z",
     "shell.execute_reply.started": "2021-06-07T07:55:57.596674Z"
    }
   },
   "outputs": [
    {
     "name": "stdout",
     "output_type": "stream",
     "text": [
      "probability:0.99995553\n",
      "Pepper__bell___healthy\n"
     ]
    }
   ],
   "source": [
    "itemindex = np.where(result==np.max(result))\n",
    "print(\"probability:\"+str(np.max(result))+\"\\n\"+label_binarizer.classes_[itemindex[1][0]])"
   ]
  },
  {
   "cell_type": "code",
   "execution_count": 106,
   "metadata": {
    "execution": {
     "iopub.execute_input": "2021-06-07T07:56:39.253511Z",
     "iopub.status.busy": "2021-06-07T07:56:39.253261Z",
     "iopub.status.idle": "2021-06-07T07:56:39.261829Z",
     "shell.execute_reply": "2021-06-07T07:56:39.260525Z",
     "shell.execute_reply.started": "2021-06-07T07:56:39.253464Z"
    }
   },
   "outputs": [
    {
     "data": {
      "text/plain": [
       "'Pepper__bell___healthy'"
      ]
     },
     "execution_count": 106,
     "metadata": {},
     "output_type": "execute_result"
    }
   ],
   "source": [
    "x = label_binarizer.classes_[itemindex[1][0]]\n",
    "x"
   ]
  },
  {
   "cell_type": "code",
   "execution_count": 107,
   "metadata": {
    "execution": {
     "iopub.execute_input": "2021-06-07T07:56:58.833193Z",
     "iopub.status.busy": "2021-06-07T07:56:58.832906Z",
     "iopub.status.idle": "2021-06-07T07:56:58.839477Z",
     "shell.execute_reply": "2021-06-07T07:56:58.838965Z",
     "shell.execute_reply.started": "2021-06-07T07:56:58.833146Z"
    }
   },
   "outputs": [
    {
     "name": "stdout",
     "output_type": "stream",
     "text": [
      "healthy plant\n"
     ]
    }
   ],
   "source": [
    "if(x=='Potato___Early_blight'):\n",
    "    print(\"use mancozeb and cholorathalonil\")\n",
    "if(x=='Pepper__bell___Bacterial_spot'):\n",
    "    print(\"use copper sprays\")\n",
    "if(x=='Potato___Late_blight'):\n",
    "    print(\"use mancozeb and cholorathalonil\")\n",
    "if(x=='Tomato_Bacterial_spot'):\n",
    "    print(\"use copper sprays\")\n",
    "if(x=='Tomato_Early_blight'):\n",
    "    print(\"use mancozeb and cholorathalonil\")\n",
    "if(x=='Tomato_Late_blight'):\n",
    "    print(\"use mancozeb and cholorathalonil\")\n",
    "if(x=='Tomato_Leaf_Mold'):\n",
    "    print(\"use chladosporium fulvum\")\n",
    "if(x=='Tomato_Septoria_leaf_spot'):\n",
    "    print(\"use fungicides\")\n",
    "if(x=='Potato___healthy' or x=='Tomato_healthy' or x=='Pepper__bell___healthy'):\n",
    "    print(\"healthy plant\")"
   ]
  },
  {
   "cell_type": "code",
   "execution_count": 108,
   "metadata": {
    "execution": {
     "iopub.execute_input": "2021-06-07T07:57:05.834008Z",
     "iopub.status.busy": "2021-06-07T07:57:05.833703Z",
     "iopub.status.idle": "2021-06-07T07:57:05.859781Z",
     "shell.execute_reply": "2021-06-07T07:57:05.859168Z",
     "shell.execute_reply.started": "2021-06-07T07:57:05.833939Z"
    }
   },
   "outputs": [],
   "source": [
    "image_dir=\"../input/plantdisease/PlantVillage/Potato___Early_blight/001187a0-57ab-4329-baff-e7246a9edeb0___RS_Early.B 8178.JPG\"\n",
    "im=convert_image_to_array(image_dir)\n",
    "np_image_li = np.array(im, dtype=np.float16) / 225.0\n",
    "npp_image = np.expand_dims(np_image_li, axis=0)"
   ]
  },
  {
   "cell_type": "code",
   "execution_count": 109,
   "metadata": {
    "execution": {
     "iopub.execute_input": "2021-06-07T07:57:08.342973Z",
     "iopub.status.busy": "2021-06-07T07:57:08.342554Z",
     "iopub.status.idle": "2021-06-07T07:57:08.402896Z",
     "shell.execute_reply": "2021-06-07T07:57:08.402014Z",
     "shell.execute_reply.started": "2021-06-07T07:57:08.342936Z"
    }
   },
   "outputs": [
    {
     "name": "stdout",
     "output_type": "stream",
     "text": [
      "[[2.1969288e-06 1.2447368e-08 9.9813133e-01 3.2567471e-09 8.5272995e-12\n",
      "  1.2782117e-06 1.8563912e-03 6.8208064e-06 9.2998291e-12 3.0010100e-10\n",
      "  4.2802906e-10 8.8359775e-15 2.0135326e-06 2.0138557e-11 4.3881365e-09]]\n"
     ]
    }
   ],
   "source": [
    "result=model.predict(npp_image)\n",
    "print(result)"
   ]
  },
  {
   "cell_type": "code",
   "execution_count": 110,
   "metadata": {
    "execution": {
     "iopub.execute_input": "2021-06-07T07:57:13.173069Z",
     "iopub.status.busy": "2021-06-07T07:57:13.172793Z",
     "iopub.status.idle": "2021-06-07T07:57:13.177254Z",
     "shell.execute_reply": "2021-06-07T07:57:13.176426Z",
     "shell.execute_reply.started": "2021-06-07T07:57:13.173024Z"
    }
   },
   "outputs": [
    {
     "name": "stdout",
     "output_type": "stream",
     "text": [
      "probability:0.99813133\n",
      "Potato___Early_blight\n"
     ]
    }
   ],
   "source": [
    "itemindex = np.where(result==np.max(result))\n",
    "print(\"probability:\"+str(np.max(result))+\"\\n\"+label_binarizer.classes_[itemindex[1][0]])"
   ]
  },
  {
   "cell_type": "code",
   "execution_count": 111,
   "metadata": {
    "execution": {
     "iopub.execute_input": "2021-06-07T07:57:17.433105Z",
     "iopub.status.busy": "2021-06-07T07:57:17.432813Z",
     "iopub.status.idle": "2021-06-07T07:57:17.440030Z",
     "shell.execute_reply": "2021-06-07T07:57:17.438668Z",
     "shell.execute_reply.started": "2021-06-07T07:57:17.433049Z"
    }
   },
   "outputs": [
    {
     "data": {
      "text/plain": [
       "'Potato___Early_blight'"
      ]
     },
     "execution_count": 111,
     "metadata": {},
     "output_type": "execute_result"
    }
   ],
   "source": [
    "x = label_binarizer.classes_[itemindex[1][0]]\n",
    "x"
   ]
  },
  {
   "cell_type": "code",
   "execution_count": 112,
   "metadata": {
    "execution": {
     "iopub.execute_input": "2021-06-07T07:57:58.268120Z",
     "iopub.status.busy": "2021-06-07T07:57:58.267735Z",
     "iopub.status.idle": "2021-06-07T07:57:58.276889Z",
     "shell.execute_reply": "2021-06-07T07:57:58.275494Z",
     "shell.execute_reply.started": "2021-06-07T07:57:58.267956Z"
    }
   },
   "outputs": [
    {
     "name": "stdout",
     "output_type": "stream",
     "text": [
      "use mancozeb and cholorathalonil\n"
     ]
    }
   ],
   "source": [
    "if(x=='Potato___Early_blight'):\n",
    "    print(\"use mancozeb and cholorathalonil\")\n",
    "if(x=='Pepper__bell___Bacterial_spot'):\n",
    "    print(\"use copper sprays\")\n",
    "if(x=='Potato___Late_blight'):\n",
    "    print(\"use mancozeb and cholorathalonil\")\n",
    "if(x=='Tomato_Bacterial_spot'):\n",
    "    print(\"use copper sprays\")\n",
    "if(x=='Tomato_Early_blight'):\n",
    "    print(\"use mancozeb and cholorathalonil\")\n",
    "if(x=='Tomato_Late_blight'):\n",
    "    print(\"use mancozeb and cholorathalonil\")\n",
    "if(x=='Tomato_Leaf_Mold'):\n",
    "    print(\"use chladosporium fulvum\")\n",
    "if(x=='Tomato_Septoria_leaf_spot'):\n",
    "    print(\"use fungicides\")\n",
    "if(x=='Potato___healthy' or x=='Tomato_healthy' or x=='Pepper__bell___healthy'):\n",
    "    print(\"healthy plant\")"
   ]
  }
 ],
 "metadata": {
  "kernelspec": {
   "display_name": "Python 3",
   "language": "python",
   "name": "python3"
  },
  "language_info": {
   "codemirror_mode": {
    "name": "ipython",
    "version": 3
   },
   "file_extension": ".py",
   "mimetype": "text/x-python",
   "name": "python",
   "nbconvert_exporter": "python",
   "pygments_lexer": "ipython3",
   "version": "3.8.5"
  }
 },
 "nbformat": 4,
 "nbformat_minor": 4
}
